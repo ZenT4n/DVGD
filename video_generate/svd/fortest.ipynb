{
 "cells": [
  {
   "cell_type": "code",
   "execution_count": 1,
   "metadata": {},
   "outputs": [
    {
     "data": {
      "text/plain": [
       "[1, 2, 3]"
      ]
     },
     "execution_count": 1,
     "metadata": {},
     "output_type": "execute_result"
    }
   ],
   "source": [
    "a = [3,2,1]\n",
    "b = sorted(a)\n",
    "b"
   ]
  },
  {
   "cell_type": "markdown",
   "metadata": {},
   "source": [
    "Test for path and get img path"
   ]
  },
  {
   "cell_type": "code",
   "execution_count": 7,
   "metadata": {},
   "outputs": [
    {
     "name": "stdout",
     "output_type": "stream",
     "text": [
      "[PosixPath('/data/ztpf/Dataset/Landscape classification/Landscape Classification/Landscape Classification/Testing Data/Desert/Desert-Test (1).jpeg'), PosixPath('/data/ztpf/Dataset/Landscape classification/Landscape Classification/Landscape Classification/Testing Data/Desert/Desert-Test (10).jpeg'), PosixPath('/data/ztpf/Dataset/Landscape classification/Landscape Classification/Landscape Classification/Testing Data/Desert/Desert-Test (100).jpeg'), PosixPath('/data/ztpf/Dataset/Landscape classification/Landscape Classification/Landscape Classification/Testing Data/Desert/Desert-Test (11).jpeg'), PosixPath('/data/ztpf/Dataset/Landscape classification/Landscape Classification/Landscape Classification/Testing Data/Desert/Desert-Test (12).jpeg'), PosixPath('/data/ztpf/Dataset/Landscape classification/Landscape Classification/Landscape Classification/Testing Data/Desert/Desert-Test (13).jpeg'), PosixPath('/data/ztpf/Dataset/Landscape classification/Landscape Classification/Landscape Classification/Testing Data/Desert/Desert-Test (14).jpeg'), PosixPath('/data/ztpf/Dataset/Landscape classification/Landscape Classification/Landscape Classification/Testing Data/Desert/Desert-Test (15).jpeg'), PosixPath('/data/ztpf/Dataset/Landscape classification/Landscape Classification/Landscape Classification/Testing Data/Desert/Desert-Test (16).jpeg'), PosixPath('/data/ztpf/Dataset/Landscape classification/Landscape Classification/Landscape Classification/Testing Data/Desert/Desert-Test (17).jpeg'), PosixPath('/data/ztpf/Dataset/Landscape classification/Landscape Classification/Landscape Classification/Testing Data/Desert/Desert-Test (18).jpeg'), PosixPath('/data/ztpf/Dataset/Landscape classification/Landscape Classification/Landscape Classification/Testing Data/Desert/Desert-Test (19).jpeg'), PosixPath('/data/ztpf/Dataset/Landscape classification/Landscape Classification/Landscape Classification/Testing Data/Desert/Desert-Test (2).jpeg'), PosixPath('/data/ztpf/Dataset/Landscape classification/Landscape Classification/Landscape Classification/Testing Data/Desert/Desert-Test (20).jpeg'), PosixPath('/data/ztpf/Dataset/Landscape classification/Landscape Classification/Landscape Classification/Testing Data/Desert/Desert-Test (21).jpeg'), PosixPath('/data/ztpf/Dataset/Landscape classification/Landscape Classification/Landscape Classification/Testing Data/Desert/Desert-Test (22).jpeg'), PosixPath('/data/ztpf/Dataset/Landscape classification/Landscape Classification/Landscape Classification/Testing Data/Desert/Desert-Test (23).jpeg'), PosixPath('/data/ztpf/Dataset/Landscape classification/Landscape Classification/Landscape Classification/Testing Data/Desert/Desert-Test (24).jpeg'), PosixPath('/data/ztpf/Dataset/Landscape classification/Landscape Classification/Landscape Classification/Testing Data/Desert/Desert-Test (25).jpeg'), PosixPath('/data/ztpf/Dataset/Landscape classification/Landscape Classification/Landscape Classification/Testing Data/Desert/Desert-Test (26).jpeg'), PosixPath('/data/ztpf/Dataset/Landscape classification/Landscape Classification/Landscape Classification/Testing Data/Desert/Desert-Test (27).jpeg'), PosixPath('/data/ztpf/Dataset/Landscape classification/Landscape Classification/Landscape Classification/Testing Data/Desert/Desert-Test (28).jpeg'), PosixPath('/data/ztpf/Dataset/Landscape classification/Landscape Classification/Landscape Classification/Testing Data/Desert/Desert-Test (29).jpeg'), PosixPath('/data/ztpf/Dataset/Landscape classification/Landscape Classification/Landscape Classification/Testing Data/Desert/Desert-Test (3).jpeg'), PosixPath('/data/ztpf/Dataset/Landscape classification/Landscape Classification/Landscape Classification/Testing Data/Desert/Desert-Test (30).jpeg'), PosixPath('/data/ztpf/Dataset/Landscape classification/Landscape Classification/Landscape Classification/Testing Data/Desert/Desert-Test (31).jpeg'), PosixPath('/data/ztpf/Dataset/Landscape classification/Landscape Classification/Landscape Classification/Testing Data/Desert/Desert-Test (32).jpeg'), PosixPath('/data/ztpf/Dataset/Landscape classification/Landscape Classification/Landscape Classification/Testing Data/Desert/Desert-Test (33).jpeg'), PosixPath('/data/ztpf/Dataset/Landscape classification/Landscape Classification/Landscape Classification/Testing Data/Desert/Desert-Test (34).jpeg'), PosixPath('/data/ztpf/Dataset/Landscape classification/Landscape Classification/Landscape Classification/Testing Data/Desert/Desert-Test (35).jpeg'), PosixPath('/data/ztpf/Dataset/Landscape classification/Landscape Classification/Landscape Classification/Testing Data/Desert/Desert-Test (36).jpeg'), PosixPath('/data/ztpf/Dataset/Landscape classification/Landscape Classification/Landscape Classification/Testing Data/Desert/Desert-Test (37).jpeg'), PosixPath('/data/ztpf/Dataset/Landscape classification/Landscape Classification/Landscape Classification/Testing Data/Desert/Desert-Test (38).jpeg'), PosixPath('/data/ztpf/Dataset/Landscape classification/Landscape Classification/Landscape Classification/Testing Data/Desert/Desert-Test (39).jpeg'), PosixPath('/data/ztpf/Dataset/Landscape classification/Landscape Classification/Landscape Classification/Testing Data/Desert/Desert-Test (4).jpeg'), PosixPath('/data/ztpf/Dataset/Landscape classification/Landscape Classification/Landscape Classification/Testing Data/Desert/Desert-Test (40).jpeg'), PosixPath('/data/ztpf/Dataset/Landscape classification/Landscape Classification/Landscape Classification/Testing Data/Desert/Desert-Test (41).jpeg'), PosixPath('/data/ztpf/Dataset/Landscape classification/Landscape Classification/Landscape Classification/Testing Data/Desert/Desert-Test (42).jpeg'), PosixPath('/data/ztpf/Dataset/Landscape classification/Landscape Classification/Landscape Classification/Testing Data/Desert/Desert-Test (43).jpeg'), PosixPath('/data/ztpf/Dataset/Landscape classification/Landscape Classification/Landscape Classification/Testing Data/Desert/Desert-Test (44).jpeg'), PosixPath('/data/ztpf/Dataset/Landscape classification/Landscape Classification/Landscape Classification/Testing Data/Desert/Desert-Test (45).jpeg'), PosixPath('/data/ztpf/Dataset/Landscape classification/Landscape Classification/Landscape Classification/Testing Data/Desert/Desert-Test (46).jpeg'), PosixPath('/data/ztpf/Dataset/Landscape classification/Landscape Classification/Landscape Classification/Testing Data/Desert/Desert-Test (47).jpeg'), PosixPath('/data/ztpf/Dataset/Landscape classification/Landscape Classification/Landscape Classification/Testing Data/Desert/Desert-Test (48).jpeg'), PosixPath('/data/ztpf/Dataset/Landscape classification/Landscape Classification/Landscape Classification/Testing Data/Desert/Desert-Test (49).jpeg'), PosixPath('/data/ztpf/Dataset/Landscape classification/Landscape Classification/Landscape Classification/Testing Data/Desert/Desert-Test (5).jpeg'), PosixPath('/data/ztpf/Dataset/Landscape classification/Landscape Classification/Landscape Classification/Testing Data/Desert/Desert-Test (50).jpeg'), PosixPath('/data/ztpf/Dataset/Landscape classification/Landscape Classification/Landscape Classification/Testing Data/Desert/Desert-Test (51).jpeg'), PosixPath('/data/ztpf/Dataset/Landscape classification/Landscape Classification/Landscape Classification/Testing Data/Desert/Desert-Test (52).jpeg'), PosixPath('/data/ztpf/Dataset/Landscape classification/Landscape Classification/Landscape Classification/Testing Data/Desert/Desert-Test (53).jpeg'), PosixPath('/data/ztpf/Dataset/Landscape classification/Landscape Classification/Landscape Classification/Testing Data/Desert/Desert-Test (54).jpeg'), PosixPath('/data/ztpf/Dataset/Landscape classification/Landscape Classification/Landscape Classification/Testing Data/Desert/Desert-Test (55).jpeg'), PosixPath('/data/ztpf/Dataset/Landscape classification/Landscape Classification/Landscape Classification/Testing Data/Desert/Desert-Test (56).jpeg'), PosixPath('/data/ztpf/Dataset/Landscape classification/Landscape Classification/Landscape Classification/Testing Data/Desert/Desert-Test (57).jpeg'), PosixPath('/data/ztpf/Dataset/Landscape classification/Landscape Classification/Landscape Classification/Testing Data/Desert/Desert-Test (58).jpeg'), PosixPath('/data/ztpf/Dataset/Landscape classification/Landscape Classification/Landscape Classification/Testing Data/Desert/Desert-Test (59).jpeg'), PosixPath('/data/ztpf/Dataset/Landscape classification/Landscape Classification/Landscape Classification/Testing Data/Desert/Desert-Test (6).jpeg'), PosixPath('/data/ztpf/Dataset/Landscape classification/Landscape Classification/Landscape Classification/Testing Data/Desert/Desert-Test (60).jpeg'), PosixPath('/data/ztpf/Dataset/Landscape classification/Landscape Classification/Landscape Classification/Testing Data/Desert/Desert-Test (61).jpeg'), PosixPath('/data/ztpf/Dataset/Landscape classification/Landscape Classification/Landscape Classification/Testing Data/Desert/Desert-Test (62).jpeg'), PosixPath('/data/ztpf/Dataset/Landscape classification/Landscape Classification/Landscape Classification/Testing Data/Desert/Desert-Test (63).jpeg'), PosixPath('/data/ztpf/Dataset/Landscape classification/Landscape Classification/Landscape Classification/Testing Data/Desert/Desert-Test (64).jpeg'), PosixPath('/data/ztpf/Dataset/Landscape classification/Landscape Classification/Landscape Classification/Testing Data/Desert/Desert-Test (65).jpeg'), PosixPath('/data/ztpf/Dataset/Landscape classification/Landscape Classification/Landscape Classification/Testing Data/Desert/Desert-Test (66).jpeg'), PosixPath('/data/ztpf/Dataset/Landscape classification/Landscape Classification/Landscape Classification/Testing Data/Desert/Desert-Test (67).jpeg'), PosixPath('/data/ztpf/Dataset/Landscape classification/Landscape Classification/Landscape Classification/Testing Data/Desert/Desert-Test (68).jpeg'), PosixPath('/data/ztpf/Dataset/Landscape classification/Landscape Classification/Landscape Classification/Testing Data/Desert/Desert-Test (69).jpeg'), PosixPath('/data/ztpf/Dataset/Landscape classification/Landscape Classification/Landscape Classification/Testing Data/Desert/Desert-Test (7).jpeg'), PosixPath('/data/ztpf/Dataset/Landscape classification/Landscape Classification/Landscape Classification/Testing Data/Desert/Desert-Test (70).jpeg'), PosixPath('/data/ztpf/Dataset/Landscape classification/Landscape Classification/Landscape Classification/Testing Data/Desert/Desert-Test (71).jpeg'), PosixPath('/data/ztpf/Dataset/Landscape classification/Landscape Classification/Landscape Classification/Testing Data/Desert/Desert-Test (72).jpeg'), PosixPath('/data/ztpf/Dataset/Landscape classification/Landscape Classification/Landscape Classification/Testing Data/Desert/Desert-Test (73).jpeg'), PosixPath('/data/ztpf/Dataset/Landscape classification/Landscape Classification/Landscape Classification/Testing Data/Desert/Desert-Test (74).jpeg'), PosixPath('/data/ztpf/Dataset/Landscape classification/Landscape Classification/Landscape Classification/Testing Data/Desert/Desert-Test (75).jpeg'), PosixPath('/data/ztpf/Dataset/Landscape classification/Landscape Classification/Landscape Classification/Testing Data/Desert/Desert-Test (76).jpeg'), PosixPath('/data/ztpf/Dataset/Landscape classification/Landscape Classification/Landscape Classification/Testing Data/Desert/Desert-Test (77).jpeg'), PosixPath('/data/ztpf/Dataset/Landscape classification/Landscape Classification/Landscape Classification/Testing Data/Desert/Desert-Test (78).jpeg'), PosixPath('/data/ztpf/Dataset/Landscape classification/Landscape Classification/Landscape Classification/Testing Data/Desert/Desert-Test (79).jpeg'), PosixPath('/data/ztpf/Dataset/Landscape classification/Landscape Classification/Landscape Classification/Testing Data/Desert/Desert-Test (8).jpeg'), PosixPath('/data/ztpf/Dataset/Landscape classification/Landscape Classification/Landscape Classification/Testing Data/Desert/Desert-Test (80).jpeg'), PosixPath('/data/ztpf/Dataset/Landscape classification/Landscape Classification/Landscape Classification/Testing Data/Desert/Desert-Test (81).jpeg'), PosixPath('/data/ztpf/Dataset/Landscape classification/Landscape Classification/Landscape Classification/Testing Data/Desert/Desert-Test (82).jpeg'), PosixPath('/data/ztpf/Dataset/Landscape classification/Landscape Classification/Landscape Classification/Testing Data/Desert/Desert-Test (83).jpeg'), PosixPath('/data/ztpf/Dataset/Landscape classification/Landscape Classification/Landscape Classification/Testing Data/Desert/Desert-Test (84).jpeg'), PosixPath('/data/ztpf/Dataset/Landscape classification/Landscape Classification/Landscape Classification/Testing Data/Desert/Desert-Test (85).jpeg'), PosixPath('/data/ztpf/Dataset/Landscape classification/Landscape Classification/Landscape Classification/Testing Data/Desert/Desert-Test (86).jpeg'), PosixPath('/data/ztpf/Dataset/Landscape classification/Landscape Classification/Landscape Classification/Testing Data/Desert/Desert-Test (87).jpeg'), PosixPath('/data/ztpf/Dataset/Landscape classification/Landscape Classification/Landscape Classification/Testing Data/Desert/Desert-Test (88).jpeg'), PosixPath('/data/ztpf/Dataset/Landscape classification/Landscape Classification/Landscape Classification/Testing Data/Desert/Desert-Test (89).jpeg'), PosixPath('/data/ztpf/Dataset/Landscape classification/Landscape Classification/Landscape Classification/Testing Data/Desert/Desert-Test (9).jpeg'), PosixPath('/data/ztpf/Dataset/Landscape classification/Landscape Classification/Landscape Classification/Testing Data/Desert/Desert-Test (90).jpeg'), PosixPath('/data/ztpf/Dataset/Landscape classification/Landscape Classification/Landscape Classification/Testing Data/Desert/Desert-Test (91).jpeg'), PosixPath('/data/ztpf/Dataset/Landscape classification/Landscape Classification/Landscape Classification/Testing Data/Desert/Desert-Test (92).jpeg'), PosixPath('/data/ztpf/Dataset/Landscape classification/Landscape Classification/Landscape Classification/Testing Data/Desert/Desert-Test (93).jpeg'), PosixPath('/data/ztpf/Dataset/Landscape classification/Landscape Classification/Landscape Classification/Testing Data/Desert/Desert-Test (94).jpeg'), PosixPath('/data/ztpf/Dataset/Landscape classification/Landscape Classification/Landscape Classification/Testing Data/Desert/Desert-Test (95).jpeg'), PosixPath('/data/ztpf/Dataset/Landscape classification/Landscape Classification/Landscape Classification/Testing Data/Desert/Desert-Test (96).jpeg'), PosixPath('/data/ztpf/Dataset/Landscape classification/Landscape Classification/Landscape Classification/Testing Data/Desert/Desert-Test (97).jpeg'), PosixPath('/data/ztpf/Dataset/Landscape classification/Landscape Classification/Landscape Classification/Testing Data/Desert/Desert-Test (98).jpeg'), PosixPath('/data/ztpf/Dataset/Landscape classification/Landscape Classification/Landscape Classification/Testing Data/Desert/Desert-Test (99).jpeg')]\n"
     ]
    }
   ],
   "source": [
    "from pathlib import Path\n",
    "from PIL import Image\n",
    "input = \"/data/ztpf/Dataset/Landscape classification/Landscape Classification/Landscape Classification/Testing Data\"\n",
    "path = Path(input)\n",
    "all_img_paths = {\n",
    "    f.stem : sorted([\n",
    "        x for x in f.iterdir()\n",
    "        if x.is_file() and x.suffix.lower() in [\".jpg\", \".jpeg\", \".png\"]\n",
    "        ])\n",
    "    for f in path.iterdir()}\n",
    "print(all_img_paths['Desert'])\n",
    "        "
   ]
  },
  {
   "cell_type": "code",
   "execution_count": 9,
   "metadata": {},
   "outputs": [
    {
     "data": {
      "text/plain": [
       "RangeIndex(start=0, stop=1, step=1)"
      ]
     },
     "execution_count": 9,
     "metadata": {},
     "output_type": "execute_result"
    }
   ],
   "source": [
    "import pandas as pd\n",
    "a = \"sadf\"\n",
    "b = \"asdf\"\n",
    "l = []\n",
    "l.append((a,b))\n",
    "df = pd.DataFrame(l)\n",
    "df.index"
   ]
  },
  {
   "cell_type": "code",
   "execution_count": 1,
   "metadata": {},
   "outputs": [
    {
     "name": "stdout",
     "output_type": "stream",
     "text": [
      "a/000005.mp4\n"
     ]
    }
   ],
   "source": [
    "import os\n",
    "output_folder = 'a'\n",
    "base_count = 5\n",
    "video_path = os.path.join(output_folder, f\"{base_count:06d}.mp4\")\n",
    "print(video_path)"
   ]
  }
 ],
 "metadata": {
  "kernelspec": {
   "display_name": "sd",
   "language": "python",
   "name": "python3"
  },
  "language_info": {
   "codemirror_mode": {
    "name": "ipython",
    "version": 3
   },
   "file_extension": ".py",
   "mimetype": "text/x-python",
   "name": "python",
   "nbconvert_exporter": "python",
   "pygments_lexer": "ipython3",
   "version": "3.10.13"
  }
 },
 "nbformat": 4,
 "nbformat_minor": 2
}
